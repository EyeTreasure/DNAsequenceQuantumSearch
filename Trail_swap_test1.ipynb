{
  "nbformat": 4,
  "nbformat_minor": 0,
  "metadata": {
    "colab": {
      "name": "swap_test.ipynb",
      "provenance": [],
      "authorship_tag": "ABX9TyMX5O8RELfWZQdN4dSBo6ai",
      "include_colab_link": true
    },
    "kernelspec": {
      "name": "python3",
      "display_name": "Python 3"
    },
    "language_info": {
      "name": "python"
    }
  },
  "cells": [
    {
      "cell_type": "markdown",
      "metadata": {
        "id": "view-in-github",
        "colab_type": "text"
      },
      "source": [
        "<a href=\"https://colab.research.google.com/github/rifat19331279/DNAsequenceQuantumSearch/blob/main/Trail_swap_test1.ipynb\" target=\"_parent\"><img src=\"https://colab.research.google.com/assets/colab-badge.svg\" alt=\"Open In Colab\"/></a>"
      ]
    },
    {
      "cell_type": "code",
      "metadata": {
        "colab": {
          "base_uri": "https://localhost:8080/"
        },
        "id": "UgIqDqHl3Idr",
        "outputId": "e8d0cc61-e719-42fd-aa9e-fdea49249ed1"
      },
      "source": [
        "pip install qiskit"
      ],
      "execution_count": null,
      "outputs": [
        {
          "output_type": "stream",
          "text": [
            "Requirement already satisfied: qiskit in /usr/local/lib/python3.7/dist-packages (0.29.0)\n",
            "Requirement already satisfied: qiskit-ibmq-provider==0.16.0 in /usr/local/lib/python3.7/dist-packages (from qiskit) (0.16.0)\n",
            "Requirement already satisfied: qiskit-ignis==0.6.0 in /usr/local/lib/python3.7/dist-packages (from qiskit) (0.6.0)\n",
            "Requirement already satisfied: qiskit-terra==0.18.1 in /usr/local/lib/python3.7/dist-packages (from qiskit) (0.18.1)\n",
            "Requirement already satisfied: qiskit-aqua==0.9.4 in /usr/local/lib/python3.7/dist-packages (from qiskit) (0.9.4)\n",
            "Requirement already satisfied: qiskit-aer==0.8.2 in /usr/local/lib/python3.7/dist-packages (from qiskit) (0.8.2)\n",
            "Requirement already satisfied: numpy>=1.16.3 in /usr/local/lib/python3.7/dist-packages (from qiskit-aer==0.8.2->qiskit) (1.19.5)\n",
            "Requirement already satisfied: pybind11>=2.6 in /usr/local/lib/python3.7/dist-packages (from qiskit-aer==0.8.2->qiskit) (2.7.1)\n",
            "Requirement already satisfied: scipy>=1.0 in /usr/local/lib/python3.7/dist-packages (from qiskit-aer==0.8.2->qiskit) (1.4.1)\n",
            "Requirement already satisfied: quandl in /usr/local/lib/python3.7/dist-packages (from qiskit-aqua==0.9.4->qiskit) (3.6.1)\n",
            "Requirement already satisfied: scikit-learn>=0.20.0 in /usr/local/lib/python3.7/dist-packages (from qiskit-aqua==0.9.4->qiskit) (0.22.2.post1)\n",
            "Requirement already satisfied: sympy>=1.3 in /usr/local/lib/python3.7/dist-packages (from qiskit-aqua==0.9.4->qiskit) (1.7.1)\n",
            "Requirement already satisfied: h5py<3.3.0 in /usr/local/lib/python3.7/dist-packages (from qiskit-aqua==0.9.4->qiskit) (3.1.0)\n",
            "Requirement already satisfied: pandas in /usr/local/lib/python3.7/dist-packages (from qiskit-aqua==0.9.4->qiskit) (1.1.5)\n",
            "Requirement already satisfied: psutil>=5 in /usr/local/lib/python3.7/dist-packages (from qiskit-aqua==0.9.4->qiskit) (5.4.8)\n",
            "Requirement already satisfied: setuptools>=40.1.0 in /usr/local/lib/python3.7/dist-packages (from qiskit-aqua==0.9.4->qiskit) (57.4.0)\n",
            "Requirement already satisfied: yfinance<0.1.63 in /usr/local/lib/python3.7/dist-packages (from qiskit-aqua==0.9.4->qiskit) (0.1.62)\n",
            "Requirement already satisfied: retworkx>=0.8.0 in /usr/local/lib/python3.7/dist-packages (from qiskit-aqua==0.9.4->qiskit) (0.10.1)\n",
            "Requirement already satisfied: docplex>=2.21.207 in /usr/local/lib/python3.7/dist-packages (from qiskit-aqua==0.9.4->qiskit) (2.21.207)\n",
            "Requirement already satisfied: dlx<=1.0.4 in /usr/local/lib/python3.7/dist-packages (from qiskit-aqua==0.9.4->qiskit) (1.0.4)\n",
            "Requirement already satisfied: fastdtw<=0.3.4 in /usr/local/lib/python3.7/dist-packages (from qiskit-aqua==0.9.4->qiskit) (0.3.4)\n",
            "Requirement already satisfied: urllib3>=1.21.1 in /usr/local/lib/python3.7/dist-packages (from qiskit-ibmq-provider==0.16.0->qiskit) (1.24.3)\n",
            "Requirement already satisfied: requests-ntlm>=1.1.0 in /usr/local/lib/python3.7/dist-packages (from qiskit-ibmq-provider==0.16.0->qiskit) (1.1.0)\n",
            "Requirement already satisfied: python-dateutil>=2.8.0 in /usr/local/lib/python3.7/dist-packages (from qiskit-ibmq-provider==0.16.0->qiskit) (2.8.2)\n",
            "Requirement already satisfied: websocket-client>=1.0.1 in /usr/local/lib/python3.7/dist-packages (from qiskit-ibmq-provider==0.16.0->qiskit) (1.2.1)\n",
            "Requirement already satisfied: requests>=2.19 in /usr/local/lib/python3.7/dist-packages (from qiskit-ibmq-provider==0.16.0->qiskit) (2.23.0)\n",
            "Requirement already satisfied: python-constraint>=1.4 in /usr/local/lib/python3.7/dist-packages (from qiskit-terra==0.18.1->qiskit) (1.4.0)\n",
            "Requirement already satisfied: tweedledum<2.0,>=1.1 in /usr/local/lib/python3.7/dist-packages (from qiskit-terra==0.18.1->qiskit) (1.1.0)\n",
            "Requirement already satisfied: jsonschema>=2.6 in /usr/local/lib/python3.7/dist-packages (from qiskit-terra==0.18.1->qiskit) (2.6.0)\n",
            "Requirement already satisfied: ply>=3.10 in /usr/local/lib/python3.7/dist-packages (from qiskit-terra==0.18.1->qiskit) (3.11)\n",
            "Requirement already satisfied: dill>=0.3 in /usr/local/lib/python3.7/dist-packages (from qiskit-terra==0.18.1->qiskit) (0.3.4)\n",
            "Requirement already satisfied: symengine>0.7 in /usr/local/lib/python3.7/dist-packages (from qiskit-terra==0.18.1->qiskit) (0.7.2)\n",
            "Requirement already satisfied: fastjsonschema>=2.10 in /usr/local/lib/python3.7/dist-packages (from qiskit-terra==0.18.1->qiskit) (2.15.1)\n",
            "Requirement already satisfied: six in /usr/local/lib/python3.7/dist-packages (from docplex>=2.21.207->qiskit-aqua==0.9.4->qiskit) (1.15.0)\n",
            "Requirement already satisfied: cached-property in /usr/local/lib/python3.7/dist-packages (from h5py<3.3.0->qiskit-aqua==0.9.4->qiskit) (1.5.2)\n",
            "Requirement already satisfied: chardet<4,>=3.0.2 in /usr/local/lib/python3.7/dist-packages (from requests>=2.19->qiskit-ibmq-provider==0.16.0->qiskit) (3.0.4)\n",
            "Requirement already satisfied: idna<3,>=2.5 in /usr/local/lib/python3.7/dist-packages (from requests>=2.19->qiskit-ibmq-provider==0.16.0->qiskit) (2.10)\n",
            "Requirement already satisfied: certifi>=2017.4.17 in /usr/local/lib/python3.7/dist-packages (from requests>=2.19->qiskit-ibmq-provider==0.16.0->qiskit) (2021.5.30)\n",
            "Requirement already satisfied: cryptography>=1.3 in /usr/local/lib/python3.7/dist-packages (from requests-ntlm>=1.1.0->qiskit-ibmq-provider==0.16.0->qiskit) (3.4.8)\n",
            "Requirement already satisfied: ntlm-auth>=1.0.2 in /usr/local/lib/python3.7/dist-packages (from requests-ntlm>=1.1.0->qiskit-ibmq-provider==0.16.0->qiskit) (1.5.0)\n",
            "Requirement already satisfied: cffi>=1.12 in /usr/local/lib/python3.7/dist-packages (from cryptography>=1.3->requests-ntlm>=1.1.0->qiskit-ibmq-provider==0.16.0->qiskit) (1.14.6)\n",
            "Requirement already satisfied: pycparser in /usr/local/lib/python3.7/dist-packages (from cffi>=1.12->cryptography>=1.3->requests-ntlm>=1.1.0->qiskit-ibmq-provider==0.16.0->qiskit) (2.20)\n",
            "Requirement already satisfied: joblib>=0.11 in /usr/local/lib/python3.7/dist-packages (from scikit-learn>=0.20.0->qiskit-aqua==0.9.4->qiskit) (1.0.1)\n",
            "Requirement already satisfied: mpmath>=0.19 in /usr/local/lib/python3.7/dist-packages (from sympy>=1.3->qiskit-aqua==0.9.4->qiskit) (1.2.1)\n",
            "Requirement already satisfied: multitasking>=0.0.7 in /usr/local/lib/python3.7/dist-packages (from yfinance<0.1.63->qiskit-aqua==0.9.4->qiskit) (0.0.9)\n",
            "Requirement already satisfied: lxml>=4.5.1 in /usr/local/lib/python3.7/dist-packages (from yfinance<0.1.63->qiskit-aqua==0.9.4->qiskit) (4.6.3)\n",
            "Requirement already satisfied: pytz>=2017.2 in /usr/local/lib/python3.7/dist-packages (from pandas->qiskit-aqua==0.9.4->qiskit) (2018.9)\n",
            "Requirement already satisfied: inflection>=0.3.1 in /usr/local/lib/python3.7/dist-packages (from quandl->qiskit-aqua==0.9.4->qiskit) (0.5.1)\n",
            "Requirement already satisfied: more-itertools in /usr/local/lib/python3.7/dist-packages (from quandl->qiskit-aqua==0.9.4->qiskit) (8.8.0)\n"
          ],
          "name": "stdout"
        }
      ]
    },
    {
      "cell_type": "code",
      "metadata": {
        "colab": {
          "base_uri": "https://localhost:8080/"
        },
        "id": "f2ffufpc4Dif",
        "outputId": "f292157f-2c90-42f7-daf8-673dbd3ec790"
      },
      "source": [
        "pip install pylatexenc"
      ],
      "execution_count": null,
      "outputs": [
        {
          "output_type": "stream",
          "text": [
            "Requirement already satisfied: pylatexenc in /usr/local/lib/python3.7/dist-packages (2.10)\n"
          ],
          "name": "stdout"
        }
      ]
    },
    {
      "cell_type": "code",
      "metadata": {
        "colab": {
          "base_uri": "https://localhost:8080/",
          "height": 588
        },
        "id": "FR2T5u7A28aH",
        "outputId": "bf65986b-3de1-42e1-c7b4-501f58a98f85"
      },
      "source": [
        "# Import qiskit and call it q for short so we can construct,simulate, and run quantum circuits!\n",
        "import qiskit as q\n",
        "# Import Numpy and call it np so we can do maths!\n",
        "import numpy as np\n",
        "\n",
        "# Import the python plotting module of matplotlib and call it plt so we can draw graphs!\n",
        "import matplotlib.pyplot as plt\n",
        "# Tell matplotlib that we are in an Ipython notebook\n",
        "%matplotlib inline\n",
        "\n",
        "Q0=np.array([1,0])                    # |0>\n",
        "state1=np.array((1,6))                # first state vector to compare\n",
        "state2=np.array((3,5))                # second state vector to compare\n",
        "\n",
        "state1=np.sqrt(state1/np.sum(state1))\n",
        "state2=np.sqrt(state2/np.sum(state2))\n",
        "\n",
        
        "print(state1)\n",
        "print(state2)\n",
        
        "\n",
        
        "\n",
        
        "\n",
        "qreg_q = q.QuantumRegister(3, 'q')\n",
        "creg_c = q.ClassicalRegister(3, 'c')\n",
        "circuit = q.QuantumCircuit(qreg_q, creg_c)\n",
        "\n",
        "#circuit.initialize(qstate,qreg_q)\n",
        "circuit.ry(state1[0],qreg_q[1])\n",
        "circuit.h(qreg_q[1])\n",
        "circuit.rz(state1[1],qreg_q[1])\n",
        "\n",
        "\n",
        "circuit.ry(state2[0],qreg_q[2])\n",
        "circuit.h(qreg_q[2])\n",
        "circuit.rz(state2[1],qreg_q[2])\n",
        "\n",
        "circuit.h(qreg_q[0])\n",
        "circuit.cswap(qreg_q[0], qreg_q[1], qreg_q[2])\n",
        "circuit.h(qreg_q[0])\n",
        "\n",
        "circuit.measure(qreg_q[0], creg_c[0])\n",
        "\n",
        "display(circuit.draw(output=\"mpl\"))\n",
        "\n",
        "\n",
        "# Drawing the histogram\n",
        "\n",
        "backend = q.Aer.get_backend('qasm_simulator')\n",
        "job = q.execute(circuit, backend, shots=100)\n",
        "result = job.result()\n",
        "counts = result.get_counts(circuit)\n",
        "\n",
        "\n",
        "graph = q.visualization.plot_histogram(counts)\n",
        "\n",
        "\n",
        "\n",
        "display(graph)"
      ],
      "execution_count": null,
      "outputs": [
        {
          "output_type": "stream",
          "text": [
            "[0.37796447 0.9258201 ]\n",
            "[0.61237244 0.79056942]\n"
          ],
          "name": "stdout"
        },
        {
          "output_type": "display_data",
          "data": {
            "image/png": "[encoded data removed]",
            "text/plain": [
              "<Figure size 447.797x264.88 with 1 Axes>"
            ]
          },
          "metadata": {}
        },
        {
          "output_type": "display_data",
          "data": {
            "image/png": "[encoded data removed]",
            "text/plain": [
              "<Figure size 504x360 with 1 Axes>"
            ]
          },
          "metadata": {}
        }
      ]
    },
    {
      "cell_type": "code",
      "metadata": {
        "id": "HXExNm66RB1r"
      },
      "source": [
        ""
      ],
      "execution_count": null,
      "outputs": []
    }
  ]
}
